{
 "cells": [
  {
   "cell_type": "raw",
   "id": "5df1954f",
   "metadata": {},
   "source": [
    "1. What is prior probability? Give an example."
   ]
  },
  {
   "cell_type": "raw",
   "id": "08e6072f",
   "metadata": {},
   "source": [
    "ans:\n",
    "Prior probability shows the likelihood of an outcome in a given dataset. For example, in the mortgage case, P(Y) is the default rate on a home mortgage, which is 2%. P(Y|X) is called the conditional probability, which provides the probability of an outcome given the evidence, that is, when the value of X is known."
   ]
  },
  {
   "cell_type": "markdown",
   "id": "dcfd6c56",
   "metadata": {},
   "source": [
    "\"\"\\\"0_V0GyOt3LoDVfY7y5.png\"\""
   ]
  },
  {
   "cell_type": "code",
   "execution_count": null,
   "id": "bb41d92b",
   "metadata": {},
   "outputs": [],
   "source": []
  },
  {
   "cell_type": "code",
   "execution_count": null,
   "id": "80ac5776",
   "metadata": {},
   "outputs": [],
   "source": []
  },
  {
   "cell_type": "raw",
   "id": "b67ef86e",
   "metadata": {},
   "source": [
    "2. What is posterior probability? Give an example."
   ]
  },
  {
   "cell_type": "raw",
   "id": "e36ceca4",
   "metadata": {},
   "source": [
    "ans: \n",
    "Posterior probability is a revised probability that takes into account new available information. For example, let there be two urns, urn A having 5 black balls and 10 red balls and urn B having 10 black balls and 5 red balls."
   ]
  },
  {
   "cell_type": "raw",
   "id": "6ffbbb6b",
   "metadata": {},
   "source": [
    "\"\"\\\"0_V0GyOt3LoDVfY7y5.png\"\""
   ]
  },
  {
   "cell_type": "code",
   "execution_count": null,
   "id": "1abd8497",
   "metadata": {},
   "outputs": [],
   "source": []
  },
  {
   "cell_type": "code",
   "execution_count": null,
   "id": "10f29ac7",
   "metadata": {},
   "outputs": [],
   "source": []
  },
  {
   "cell_type": "raw",
   "id": "3430f6af",
   "metadata": {},
   "source": [
    "3. What is likelihood probability? Give an example."
   ]
  },
  {
   "cell_type": "raw",
   "id": "853bcec1",
   "metadata": {},
   "source": [
    "ans:\n",
    "Likelihood Function in Machine Learning and Data Science is the joint probability distribution(jpd) of the dataset given as a function of the parameter. Think of it as the probability of obtaining the observed data given the parameter values."
   ]
  },
  {
   "cell_type": "raw",
   "id": "d969e70b",
   "metadata": {},
   "source": [
    "\"\"\\\"0_V0GyOt3LoDVfY7y5.png\"\""
   ]
  },
  {
   "cell_type": "code",
   "execution_count": null,
   "id": "4dd39b0e",
   "metadata": {},
   "outputs": [],
   "source": []
  },
  {
   "cell_type": "code",
   "execution_count": null,
   "id": "e37a10fd",
   "metadata": {},
   "outputs": [],
   "source": []
  },
  {
   "cell_type": "raw",
   "id": "81d3d119",
   "metadata": {},
   "source": [
    "4. What is Naïve Bayes classifier? Why is it named so?"
   ]
  },
  {
   "cell_type": "raw",
   "id": "39e77d55",
   "metadata": {},
   "source": [
    "ans:\n",
    "Naive Bayes is a simple and powerful algorithm for predictive modeling. Naive Bayes is called naive because it assumes that each input variable is independent. This is a strong assumption and unrealistic for real data; however, the technique is very effective on a large range of complex problems."
   ]
  },
  {
   "cell_type": "markdown",
   "id": "d33ca8bc",
   "metadata": {},
   "source": [
    "\"\"\\\"0_V0GyOt3LoDVfY7y5.png\"\""
   ]
  },
  {
   "cell_type": "code",
   "execution_count": null,
   "id": "3562169c",
   "metadata": {},
   "outputs": [],
   "source": []
  },
  {
   "cell_type": "code",
   "execution_count": null,
   "id": "55c60223",
   "metadata": {},
   "outputs": [],
   "source": []
  },
  {
   "cell_type": "raw",
   "id": "86113203",
   "metadata": {},
   "source": [
    "5. What is optimal Bayes classifier?"
   ]
  },
  {
   "cell_type": "raw",
   "id": "2a24887f",
   "metadata": {},
   "source": [
    "ans:\n",
    "The Bayes Optimal Classifier is a probabilistic model that makes the most probable prediction for a new example. Bayes Optimal Classifier is a probabilistic model that finds the most probable prediction using the training data and space of hypotheses to make a prediction for a new data instance."
   ]
  },
  {
   "attachments": {
    "image.png": {
     "image/png": "[encoded data removed]"
    }
   },
   "cell_type": "markdown",
   "id": "a4c93208",
   "metadata": {},
   "source": [
    "![image.png](attachment:image.png)"
   ]
  },
  {
   "cell_type": "code",
   "execution_count": null,
   "id": "caf8cad7",
   "metadata": {},
   "outputs": [],
   "source": []
  },
  {
   "cell_type": "code",
   "execution_count": null,
   "id": "389c7662",
   "metadata": {},
   "outputs": [],
   "source": []
  },
  {
   "cell_type": "raw",
   "id": "1dc1a0c7",
   "metadata": {},
   "source": [
    " 6. Write any two features of Bayesian learning methods."
   ]
  },
  {
   "cell_type": "raw",
   "id": "68e2e27d",
   "metadata": {},
   "source": [
    "ans:\n",
    "A probability distribution over observed data for each possible hypothesis. New instances can be classified by combining the predictions of multiple hypotheses, weighted by their probabilities.\n",
    "\n",
    "\"\"\\\"0_V0GyOt3LoDVfY7y5.png\"\""
   ]
  },
  {
   "cell_type": "code",
   "execution_count": null,
   "id": "2a6cf051",
   "metadata": {},
   "outputs": [],
   "source": []
  },
  {
   "cell_type": "code",
   "execution_count": null,
   "id": "a5ab2c10",
   "metadata": {},
   "outputs": [],
   "source": []
  },
  {
   "cell_type": "raw",
   "id": "08c1f4e0",
   "metadata": {},
   "source": [
    "7. Define the concept of consistent learners."
   ]
  },
  {
   "cell_type": "raw",
   "id": "bf256bf2",
   "metadata": {},
   "source": [
    "ans:\n",
    "Consistent Learners: A learner L using a hypothesis H and training data D is said to be a consistent learner if it always outputs a hypothesis with zero error on D whenever H contains such a hypothesis. • By definition, a consistent learner must produce a hypothesis in the version space for H given D.\n",
    "\n",
    "\"\"\\\"0_V0GyOt3LoDVfY7y5.png\"\""
   ]
  },
  {
   "cell_type": "code",
   "execution_count": null,
   "id": "4e75ea56",
   "metadata": {},
   "outputs": [],
   "source": []
  },
  {
   "cell_type": "code",
   "execution_count": null,
   "id": "c864aa79",
   "metadata": {},
   "outputs": [],
   "source": []
  },
  {
   "cell_type": "raw",
   "id": "9ba4e919",
   "metadata": {},
   "source": [
    "8. Write any two strengths of Bayes classifier."
   ]
  },
  {
   "cell_type": "raw",
   "id": "74778244",
   "metadata": {},
   "source": [
    "ans:\n",
    "This algorithm works quickly and can save a lot of time. Naive Bayes is suitable for solving multi-class prediction problems. If its assumption of the independence of features holds true, it can perform better than other models and requires much less training data.\n",
    "\n",
    ">>It is simple and easy to implement.\n",
    ">>It doesn't require as much training data.\n",
    ">>It handles both continuous and discrete data.\n",
    ">>It is highly scalable with the number of predictors and data points.\n",
    ">>It is fast and can be used to make real-time predictions."
   ]
  },
  {
   "cell_type": "code",
   "execution_count": null,
   "id": "6d0451c8",
   "metadata": {},
   "outputs": [],
   "source": []
  },
  {
   "cell_type": "code",
   "execution_count": null,
   "id": "92e73a32",
   "metadata": {},
   "outputs": [],
   "source": []
  },
  {
   "cell_type": "raw",
   "id": "bc7dda9b",
   "metadata": {},
   "source": [
    "9. Write any two weaknesses of Bayes classifier."
   ]
  },
  {
   "cell_type": "raw",
   "id": "840ba944",
   "metadata": {},
   "source": [
    "ans:\n",
    "The greatest weakness of the naïve Bayes classifier is that it relies on an often-faulty assumption of equally important and independent features which results in biased posterior probabilities.\n",
    "\n",
    "If your test data set has a categorical variable of a category that wasn’t present in the training data set, the Naive Bayes model will assign it zero probability and won’t be able to make any predictions in this regard. This phenomenon is called ‘Zero Frequency,’ and you’ll have to use a smoothing technique to solve this problem.\n",
    "This algorithm is also notorious as a lousy estimator. So, you shouldn’t take the probability outputs of ‘predict_proba’ too seriously.\n",
    "It assumes that all the features are independent. While it might sound great in theory, in real life, you’ll hardly find a set of independent features."
   ]
  },
  {
   "cell_type": "code",
   "execution_count": null,
   "id": "1b519c99",
   "metadata": {},
   "outputs": [],
   "source": []
  },
  {
   "cell_type": "code",
   "execution_count": null,
   "id": "51b3a596",
   "metadata": {},
   "outputs": [],
   "source": []
  },
  {
   "cell_type": "raw",
   "id": "307a86f3",
   "metadata": {},
   "source": [
    "10. Explain how Naïve Bayes classifier is used for\n",
    "\n",
    "1. Text classification\n",
    "\n",
    "2. Spam filtering\n",
    "\n",
    "3. Market sentiment analysis"
   ]
  },
  {
   "cell_type": "raw",
   "id": "7ff4d7bb",
   "metadata": {},
   "source": [
    "ans:\n",
    "Naive Bayes Classifier is used for:\n",
    "\n",
    "1.Text classification:\n",
    "The Naive Bayes classifier is a simple classifier that classifies based on probabilities of events. It is the applied commonly to text classification. With the training set, we can train a Naive Bayes classifier which we can use to automaticall categorize a new sentence.\n",
    "\n",
    "2.Spam filtering:\n",
    "Naive Bayes classifiers work by correlating the use of tokens (typically words, or sometimes other things), with spam and non-spam e-mails and then using Bayes' theorem to calculate a probability that an email is or is not spam. It is one of the oldest ways of doing spam filtering, with roots in the 1990s.\n",
    "\n",
    "3.Market sentiment analysis:\n",
    "Market Sentiment analysis is a field dedicated to extracting subjective emotions and feelings from text. One common use of sentiment analysis is to figure out if a text expresses negative or positive feelings. Naive Bayes is a popular algorithm for classifying text."
   ]
  },
  {
   "cell_type": "code",
   "execution_count": null,
   "id": "2794b09b",
   "metadata": {},
   "outputs": [],
   "source": []
  },
  {
   "cell_type": "code",
   "execution_count": null,
   "id": "0dfc1b08",
   "metadata": {},
   "outputs": [],
   "source": []
  }
 ],
 "metadata": {
  "kernelspec": {
   "display_name": "Python 3",
   "language": "python",
   "name": "python3"
  },
  "language_info": {
   "codemirror_mode": {
    "name": "ipython",
    "version": 3
   },
   "file_extension": ".py",
   "mimetype": "text/x-python",
   "name": "python",
   "nbconvert_exporter": "python",
   "pygments_lexer": "ipython3",
   "version": "3.8.8"
  }
 },
 "nbformat": 4,
 "nbformat_minor": 5
}
